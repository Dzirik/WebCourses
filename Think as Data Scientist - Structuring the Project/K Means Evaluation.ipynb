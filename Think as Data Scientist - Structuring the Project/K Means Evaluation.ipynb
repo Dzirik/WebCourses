{
 "cells": [
  {
   "cell_type": "markdown",
   "metadata": {},
   "source": [
    "# K Means Evaluation\n",
    "\n",
    "This notebooks serves as an explanatory notebook for k means evaluation.\n",
    "- First, two data sets are introduced.\n",
    "- Next, evaluation metric from sklearn k means model is introduced.\n",
    "- Finally, the elbow method is introduced on generated data sets."
   ]
  },
  {
   "cell_type": "markdown",
   "metadata": {},
   "source": [
    "# GENERAL SETTINGS --------------------------------------"
   ]
  },
  {
   "cell_type": "markdown",
   "metadata": {},
   "source": [
    "## Initial Timestamp"
   ]
  },
  {
   "cell_type": "code",
   "execution_count": 1,
   "metadata": {},
   "outputs": [
    {
     "name": "stdout",
     "output_type": "stream",
     "text": [
      "Date and Time of Starting Execution: 26/12/2021 17:09:33\n"
     ]
    }
   ],
   "source": [
    "import time\n",
    "print(\"Date and Time of Starting Execution: \" + time.strftime(\"%d/%m/%Y\") + \" \" +time.strftime(\"%X\"))\n",
    "\n",
    "global_start_time = time.time()"
   ]
  },
  {
   "cell_type": "markdown",
   "metadata": {},
   "source": [
    "## Libraries"
   ]
  },
  {
   "cell_type": "code",
   "execution_count": 2,
   "metadata": {},
   "outputs": [],
   "source": [
    "#general libraries\n",
    "from typing import Optional\n",
    "from numpy import array, random, concatenate, argmin\n",
    "from typing import List, Tuple, Optional, Any\n",
    "from scipy.spatial.distance import cdist\n",
    "from sklearn.cluster import KMeans"
   ]
  },
  {
   "cell_type": "code",
   "execution_count": 3,
   "metadata": {},
   "outputs": [],
   "source": [
    "#personal libraries\n",
    "from Code.Visualization import Visualizer"
   ]
  },
  {
   "cell_type": "markdown",
   "metadata": {},
   "source": [
    "## Notebook Settings"
   ]
  },
  {
   "cell_type": "code",
   "execution_count": 4,
   "metadata": {},
   "outputs": [],
   "source": [
    "SEED_FOR_DATA = 540924\n",
    "N_FOR_SIMULATION = 20\n",
    "SEED_FOR_K_MEANS = 398"
   ]
  },
  {
   "cell_type": "markdown",
   "metadata": {},
   "source": [
    "# ANALYSIS ---------------------------------------------------------"
   ]
  },
  {
   "cell_type": "markdown",
   "metadata": {},
   "source": [
    "## Data\n",
    "\n",
    "In this part, the function for data generation is created."
   ]
  },
  {
   "cell_type": "markdown",
   "metadata": {},
   "source": [
    "> **HINT:** We are generating random data. For preserving the reproducibility principle, use predefined seeds."
   ]
  },
  {
   "cell_type": "markdown",
   "metadata": {},
   "source": [
    "### Function"
   ]
  },
  {
   "cell_type": "code",
   "execution_count": 5,
   "metadata": {},
   "outputs": [],
   "source": [
    "def generate_data_one_cluster(n_of_obs: int, seed: Optional[int] = None) -> array:\n",
    "    \"\"\"\n",
    "    Generates data for simulation. One cluster generated out of normal distribution with\n",
    "    n_of_obs observation.\n",
    "    :param n_of_obs: int. Number of observation in each class.\n",
    "    :param seed: Optional[int]. If int, then used as a seed in random generation.\n",
    "    :return: np.array. Data.\n",
    "    \"\"\"\n",
    "    if seed is not None:\n",
    "        random.seed(seed)\n",
    "    x = random.normal(0, 1, n_of_obs)\n",
    "    y = random.normal(0, 1, n_of_obs)\n",
    "    X = array([x, y]).transpose()\n",
    "\n",
    "    return X"
   ]
  },
  {
   "cell_type": "code",
   "execution_count": 6,
   "metadata": {},
   "outputs": [],
   "source": [
    "def generate_data_three_clusters(n_of_obs_in_class: int, seed: Optional[int] = None) -> array:\n",
    "    \"\"\"\n",
    "    Generates data for simulation. Three clusters generated out of normal distribution with\n",
    "    n_of_obs_in_class observation in each.\n",
    "    :param n_of_obs_in_class: int. Number of observation in each class.\n",
    "    :param seed: Optional[int]. If int, then used as a seed in random generation.\n",
    "    :return: np.array. Data.\n",
    "    \"\"\"\n",
    "    if seed is not None:\n",
    "        random.seed(seed)\n",
    "    x = concatenate((\n",
    "        random.normal(0, 1, n_of_obs_in_class),\n",
    "        random.normal(5, 1, n_of_obs_in_class),\n",
    "        random.normal(-5, 1, n_of_obs_in_class)\n",
    "    ))\n",
    "    y = concatenate((\n",
    "        random.normal(0, 1, n_of_obs_in_class),\n",
    "        random.normal(5, 1, n_of_obs_in_class),\n",
    "        random.normal(-5, 1, n_of_obs_in_class)\n",
    "    ))\n",
    "    X = array([x, y]).transpose()\n",
    "\n",
    "    return X"
   ]
  },
  {
   "cell_type": "markdown",
   "metadata": {},
   "source": [
    "### Generating and Plotting Data"
   ]
  },
  {
   "cell_type": "code",
   "execution_count": 7,
   "metadata": {},
   "outputs": [
    {
     "name": "stdout",
     "output_type": "stream",
     "text": [
      "[[ 2.22976966  0.58964957]\n",
      " [ 0.39518006 -0.73957198]\n",
      " [-1.2517885   0.306768  ]\n",
      " [-1.82937349 -0.42659246]\n",
      " [-0.04780692  0.29312142]]\n"
     ]
    },
    {
     "data": {
      "image/png": "[encoded data removed]",
      "text/plain": [
       "<Figure size 432x288 with 1 Axes>"
      ]
     },
     "metadata": {
      "needs_background": "light"
     },
     "output_type": "display_data"
    }
   ],
   "source": [
    "#setting seed and number of observations.\n",
    "data_seed = SEED_FOR_DATA\n",
    "n = N_FOR_SIMULATION\n",
    "\n",
    "#generating and plotting data\n",
    "X_one_cluster = generate_data_one_cluster(n_of_obs=n, seed=data_seed)\n",
    "print(X_one_cluster[0:5,:])\n",
    "visu = Visualizer()\n",
    "visu.plot_clusters(X_one_cluster[:,0], X_one_cluster[:,1], [1]*X_one_cluster.shape[0])"
   ]
  },
  {
   "cell_type": "code",
   "execution_count": 8,
   "metadata": {},
   "outputs": [
    {
     "name": "stdout",
     "output_type": "stream",
     "text": [
      "[[ 2.22976966 -0.08608874]\n",
      " [ 0.39518006  0.43628543]\n",
      " [-1.2517885  -0.79917057]\n",
      " [-1.82937349  0.13526985]\n",
      " [-0.04780692 -0.95579236]]\n"
     ]
    },
    {
     "data": {
      "image/png": "[encoded data removed]",
      "text/plain": [
       "<Figure size 432x288 with 1 Axes>"
      ]
     },
     "metadata": {
      "needs_background": "light"
     },
     "output_type": "display_data"
    }
   ],
   "source": [
    "#setting seed and number of observations.\n",
    "data_seed = SEED_FOR_DATA\n",
    "n = N_FOR_SIMULATION\n",
    "\n",
    "#generating and plotting data\n",
    "X_three_clusters = generate_data_three_clusters(n_of_obs_in_class=n, seed=data_seed)\n",
    "print(X_three_clusters[0:5,:])\n",
    "visu = Visualizer()\n",
    "visu.plot_clusters(X_three_clusters[:,0], X_three_clusters[:,1], [1]*X_three_clusters.shape[0])"
   ]
  },
  {
   "cell_type": "markdown",
   "metadata": {},
   "source": [
    "## Model\n",
    "\n",
    "[scikit-learn k-means documentation](https://scikit-learn.org/stable/modules/generated/sklearn.cluster.KMeans.html)"
   ]
  },
  {
   "cell_type": "markdown",
   "metadata": {},
   "source": [
    "### Metric"
   ]
  },
  {
   "cell_type": "code",
   "execution_count": 9,
   "metadata": {},
   "outputs": [
    {
     "data": {
      "text/plain": [
       "0.0"
      ]
     },
     "execution_count": 9,
     "metadata": {},
     "output_type": "execute_result"
    }
   ],
   "source": [
    "k = N_FOR_SIMULATION\n",
    "\n",
    "kmeans_model = KMeans(n_clusters = k, random_state=SEED_FOR_K_MEANS)\n",
    "kmeans_model.fit(X_one_cluster)\n",
    "kmeans_model.inertia_"
   ]
  },
  {
   "cell_type": "code",
   "execution_count": 10,
   "metadata": {},
   "outputs": [
    {
     "data": {
      "text/plain": [
       "0.6182839720362244"
      ]
     },
     "execution_count": 10,
     "metadata": {},
     "output_type": "execute_result"
    }
   ],
   "source": [
    "k = int(N_FOR_SIMULATION / 2)\n",
    "\n",
    "kmeans_model = KMeans(n_clusters = k, random_state=SEED_FOR_K_MEANS)\n",
    "kmeans_model.fit(X_one_cluster)\n",
    "kmeans_model.inertia_"
   ]
  },
  {
   "cell_type": "code",
   "execution_count": 11,
   "metadata": {},
   "outputs": [
    {
     "data": {
      "text/plain": [
       "27.876648560461135"
      ]
     },
     "execution_count": 11,
     "metadata": {},
     "output_type": "execute_result"
    }
   ],
   "source": [
    "k = 1\n",
    "\n",
    "kmeans_model = KMeans(n_clusters = k, random_state=SEED_FOR_K_MEANS)\n",
    "kmeans_model.fit(X_one_cluster)\n",
    "kmeans_model.inertia_"
   ]
  },
  {
   "cell_type": "markdown",
   "metadata": {},
   "source": [
    "### Elbow Method"
   ]
  },
  {
   "cell_type": "code",
   "execution_count": 12,
   "metadata": {},
   "outputs": [
    {
     "data": {
      "image/png": "[encoded data removed]",
      "text/plain": [
       "<Figure size 432x288 with 1 Axes>"
      ]
     },
     "metadata": {
      "needs_background": "light"
     },
     "output_type": "display_data"
    },
    {
     "data": {
      "image/png": "[encoded data removed]",
      "text/plain": [
       "<Figure size 432x288 with 1 Axes>"
      ]
     },
     "metadata": {
      "needs_background": "light"
     },
     "output_type": "display_data"
    }
   ],
   "source": [
    "#choosing the data\n",
    "X = X_one_cluster\n",
    "\n",
    "#running computation\n",
    "k_params = range(1, N_FOR_SIMULATION)\n",
    "metrics = [0]  * len(k_params)\n",
    "i=0\n",
    "for k in k_params:\n",
    "    kmeans_model = KMeans(n_clusters = k, random_state=SEED_FOR_K_MEANS)\n",
    "    kmeans_model.fit(X)\n",
    "    metrics[i]=kmeans_model.inertia_\n",
    "    i=i+1\n",
    "\n",
    "visu.plot_metric(k_params, metrics)\n",
    "visu.plot_clusters(X_one_cluster[:,0], X_one_cluster[:,1], [1]*X_one_cluster.shape[0])"
   ]
  },
  {
   "cell_type": "code",
   "execution_count": 13,
   "metadata": {},
   "outputs": [
    {
     "data": {
      "image/png": "[encoded data removed]",
      "text/plain": [
       "<Figure size 432x288 with 1 Axes>"
      ]
     },
     "metadata": {
      "needs_background": "light"
     },
     "output_type": "display_data"
    },
    {
     "data": {
      "image/png": "[encoded data removed]",
      "text/plain": [
       "<Figure size 432x288 with 1 Axes>"
      ]
     },
     "metadata": {
      "needs_background": "light"
     },
     "output_type": "display_data"
    }
   ],
   "source": [
    "#choosing the data\n",
    "X = X_three_clusters\n",
    "\n",
    "#running computation\n",
    "k_params = range(1, N_FOR_SIMULATION)\n",
    "metrics = [0]  * len(k_params)\n",
    "i=0\n",
    "for k in k_params:\n",
    "    kmeans_model = KMeans(n_clusters = k, random_state=SEED_FOR_K_MEANS)\n",
    "    kmeans_model.fit(X)\n",
    "    metrics[i]=kmeans_model.inertia_\n",
    "    i=i+1\n",
    "\n",
    "visu.plot_metric(k_params, metrics)\n",
    "visu.plot_clusters(X_three_clusters[:,0], X_three_clusters[:,1], [1]*X_three_clusters.shape[0])"
   ]
  },
  {
   "cell_type": "markdown",
   "metadata": {},
   "source": [
    "## Final Timestamp"
   ]
  },
  {
   "cell_type": "code",
   "execution_count": 14,
   "metadata": {},
   "outputs": [
    {
     "name": "stdout",
     "output_type": "stream",
     "text": [
      "Date and Time of Ending Execution: 26/12/2021 17:09:36\n",
      "Time duration of whole notebook is: 0.04 seconds\n"
     ]
    }
   ],
   "source": [
    "print(\"Date and Time of Ending Execution: \" + time.strftime(\"%d/%m/%Y\") + \" \" +time.strftime(\"%X\"))\n",
    "print(\"Time duration of whole notebook is: \" + str(round((time.time() - global_start_time)/60, 3)) + \" seconds\")"
   ]
  }
 ],
 "metadata": {
  "anaconda-cloud": {},
  "kernelspec": {
   "display_name": "Python 3",
   "language": "python",
   "name": "python3"
  },
  "language_info": {
   "codemirror_mode": {
    "name": "ipython",
    "version": 3
   },
   "file_extension": ".py",
   "mimetype": "text/x-python",
   "name": "python",
   "nbconvert_exporter": "python",
   "pygments_lexer": "ipython3",
   "version": "3.8.3"
  }
 },
 "nbformat": 4,
 "nbformat_minor": 2
}
