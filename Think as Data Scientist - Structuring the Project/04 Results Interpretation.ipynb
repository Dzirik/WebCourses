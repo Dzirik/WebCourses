{
 "cells": [
  {
   "cell_type": "markdown",
   "metadata": {},
   "source": [
    "# 04 Results Interpretation"
   ]
  },
  {
   "cell_type": "markdown",
   "metadata": {},
   "source": [
    "At this stage, the support for decision is created.\n",
    "\n",
    "From clustering perspective, general rule for good decision is elbow method. This rule tells that optimal number of clusters is from 5 to 7. This corresponds to general 5 sizes of clothing XS, S, M, L, XL.\n",
    "\n",
    "But the majority vote has the client, so it is time to discuss the results with him."
   ]
  }
 ],
 "metadata": {
  "kernelspec": {
   "display_name": "Python 3",
   "language": "python",
   "name": "python3"
  },
  "language_info": {
   "codemirror_mode": {
    "name": "ipython",
    "version": 3
   },
   "file_extension": ".py",
   "mimetype": "text/x-python",
   "name": "python",
   "nbconvert_exporter": "python",
   "pygments_lexer": "ipython3",
   "version": "3.8.3"
  }
 },
 "nbformat": 4,
 "nbformat_minor": 2
}
