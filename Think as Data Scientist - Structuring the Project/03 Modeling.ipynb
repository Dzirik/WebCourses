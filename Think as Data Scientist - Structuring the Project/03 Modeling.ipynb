{
 "cells": [
  {
   "cell_type": "markdown",
   "metadata": {},
   "source": [
    "# 03 Modeling"
   ]
  },
  {
   "cell_type": "markdown",
   "metadata": {},
   "source": [
    "The problem is modelled by **k-means clustering** algorithm. The reasoning behind is the following:  \n",
    "- The nature of k-means clustering with Euclidian distance is putting the most similar/closest objects together. Consequently, the t-shirt representing the cluster should fit all the members reasonably.\n",
    "- Hyperparameter k is used together with clustering metric and elbow method to estimate the range of the reasonable number of sizes. The result is then being checked with the client.\n",
    "- For each size, which is represented by one cluster, the size is defined by cluster centroid."
   ]
  },
  {
   "cell_type": "markdown",
   "metadata": {},
   "source": [
    "# GENERAL SETTINGS --------------------------------------"
   ]
  },
  {
   "cell_type": "markdown",
   "metadata": {},
   "source": [
    "## Initial Timestamp"
   ]
  },
  {
   "cell_type": "code",
   "execution_count": 1,
   "metadata": {},
   "outputs": [
    {
     "name": "stdout",
     "output_type": "stream",
     "text": [
      "Date and Time of Starting Execution: 01/01/2022 16:35:01\n"
     ]
    }
   ],
   "source": [
    "import time\n",
    "print(\"Date and Time of Starting Execution: \" + time.strftime(\"%d/%m/%Y\") + \" \" +time.strftime(\"%X\"))\n",
    "\n",
    "global_start_time = time.time()"
   ]
  },
  {
   "cell_type": "markdown",
   "metadata": {},
   "source": [
    "## Libraries"
   ]
  },
  {
   "cell_type": "code",
   "execution_count": 2,
   "metadata": {},
   "outputs": [],
   "source": [
    "#general libraries\n",
    "import pandas as pd\n",
    "import configparser\n",
    "from sklearn.cluster import KMeans\n",
    "\n",
    "%matplotlib inline"
   ]
  },
  {
   "cell_type": "code",
   "execution_count": 3,
   "metadata": {},
   "outputs": [],
   "source": [
    "#personal libraries\n",
    "from Code.Visualization import Visualizer"
   ]
  },
  {
   "cell_type": "markdown",
   "metadata": {},
   "source": [
    "## Notebook Settings"
   ]
  },
  {
   "cell_type": "code",
   "execution_count": 4,
   "metadata": {},
   "outputs": [],
   "source": [
    "CLEAN_DATA_FILE = \"clean_data.pkl\"\n",
    "K_MEANS_RANDOM_STATE = 87302"
   ]
  },
  {
   "cell_type": "markdown",
   "metadata": {},
   "source": [
    "# ANALYSIS ---------------------------------------------------------"
   ]
  },
  {
   "cell_type": "markdown",
   "metadata": {},
   "source": [
    "## Reading Data for Modelling"
   ]
  },
  {
   "cell_type": "markdown",
   "metadata": {},
   "source": [
    "The cleaned data from previous notebook *02-02 Exploratory Data Analysis* will be used. Please see the notebook for more details."
   ]
  },
  {
   "cell_type": "code",
   "execution_count": 5,
   "metadata": {},
   "outputs": [],
   "source": [
    "#data reading\n",
    "clean_data = pd.read_pickle(CLEAN_DATA_FILE)"
   ]
  },
  {
   "cell_type": "code",
   "execution_count": 6,
   "metadata": {},
   "outputs": [
    {
     "name": "stdout",
     "output_type": "stream",
     "text": [
      "(200, 3)\n",
      "       NumberOfObservation  Width [cm]  Length [cm]\n",
      "count           200.000000  200.000000   200.000000\n",
      "mean            100.500000   51.074100    68.163050\n",
      "std              57.879185   10.302146     4.309925\n",
      "min               1.000000   27.370000    55.960000\n",
      "25%              50.750000   43.900000    65.057500\n",
      "50%             100.500000   48.855000    67.695000\n",
      "75%             150.250000   57.762500    70.547500\n",
      "max             200.000000   85.360000    81.760000\n",
      "   NumberOfObservation  Width [cm]  Length [cm]\n",
      "0                    1       45.99        66.25\n",
      "1                    2       43.64        66.15\n",
      "2                    3       56.83        69.12\n",
      "3                    4       53.90        66.27\n",
      "4                    5       35.87        70.38\n",
      "     NumberOfObservation  Width [cm]  Length [cm]\n",
      "195                  196       47.79        67.78\n",
      "196                  197       43.31        67.59\n",
      "197                  198       62.48        68.96\n",
      "198                  199       58.62        69.34\n",
      "199                  200       47.78        68.23\n"
     ]
    }
   ],
   "source": [
    "#checking\n",
    "print(clean_data.shape)\n",
    "print(clean_data.describe())\n",
    "print(clean_data.head())\n",
    "print(clean_data.tail())"
   ]
  },
  {
   "cell_type": "markdown",
   "metadata": {},
   "source": [
    "## K-Means Clustering\n",
    "\n",
    "[scikit-learn k-means documentation](https://scikit-learn.org/stable/modules/generated/sklearn.cluster.KMeans.html)"
   ]
  },
  {
   "cell_type": "markdown",
   "metadata": {},
   "source": [
    "### Fitting and Plotting One Case"
   ]
  },
  {
   "cell_type": "code",
   "execution_count": 7,
   "metadata": {},
   "outputs": [],
   "source": [
    "#creating clustering object\n",
    "kmeans_model = KMeans(n_clusters = 9, random_state=K_MEANS_RANDOM_STATE)"
   ]
  },
  {
   "cell_type": "code",
   "execution_count": 8,
   "metadata": {},
   "outputs": [
    {
     "data": {
      "text/plain": [
       "KMeans(n_clusters=9, random_state=87302)"
      ]
     },
     "execution_count": 8,
     "metadata": {},
     "output_type": "execute_result"
    }
   ],
   "source": [
    "#estimating model\n",
    "kmeans_model.fit(clean_data[[\"Width [cm]\",\"Length [cm]\"]])"
   ]
  },
  {
   "cell_type": "code",
   "execution_count": 9,
   "metadata": {},
   "outputs": [
    {
     "data": {
      "image/png": "[encoded data removed]",
      "text/plain": [
       "<Figure size 432x288 with 1 Axes>"
      ]
     },
     "metadata": {
      "needs_background": "light"
     },
     "output_type": "display_data"
    }
   ],
   "source": [
    "#visualization of the result\n",
    "visu = Visualizer()\n",
    "visu.plot_clusters(clean_data[\"Width [cm]\"], clean_data[\"Length [cm]\"], kmeans_model.labels_)"
   ]
  },
  {
   "cell_type": "markdown",
   "metadata": {},
   "source": [
    "### Interpretation with Respect to Question"
   ]
  },
  {
   "cell_type": "markdown",
   "metadata": {},
   "source": [
    "For given k in k-means, the following information is needed to answer our questions:\n",
    "* Centers of the clusters - these are the desired size of the t-shirt.\n",
    "* Respective cluster for each observation - important for studying the groups. \n",
    "* Quality metric of clustering - for comparing different clusterings - see bellow."
   ]
  },
  {
   "cell_type": "code",
   "execution_count": 10,
   "metadata": {},
   "outputs": [
    {
     "data": {
      "text/plain": [
       "array([[47.93266667, 70.64266667],\n",
       "       [69.43818182, 66.40727273],\n",
       "       [42.90736842, 65.11596491],\n",
       "       [57.153125  , 68.6196875 ],\n",
       "       [49.70961538, 64.52692308],\n",
       "       [83.4825    , 71.0375    ],\n",
       "       [57.807     , 77.306     ],\n",
       "       [63.74882353, 72.59529412],\n",
       "       [34.63230769, 69.72153846]])"
      ]
     },
     "execution_count": 10,
     "metadata": {},
     "output_type": "execute_result"
    }
   ],
   "source": [
    "#centers of the clusters - it is the desired size of the t-shirt.\n",
    "kmeans_model.cluster_centers_"
   ]
  },
  {
   "cell_type": "code",
   "execution_count": 11,
   "metadata": {},
   "outputs": [
    {
     "data": {
      "text/plain": [
       "array([2, 2, 3, 3, 8, 0, 6, 4, 7, 2, 4, 3, 2, 4, 8, 7, 2, 0, 3, 0, 2, 0,\n",
       "       0, 7, 8, 6, 2, 4, 4, 2, 2, 3, 8, 2, 8, 4, 1, 3, 4, 0, 2, 7, 1, 2,\n",
       "       3, 3, 0, 6, 6, 3, 4, 3, 5, 2, 0, 4, 1, 2, 0, 3, 4, 4, 3, 2, 3, 2,\n",
       "       0, 2, 0, 3, 6, 3, 0, 0, 3, 0, 2, 2, 7, 2, 2, 2, 1, 0, 2, 2, 0, 4,\n",
       "       4, 2, 5, 0, 2, 8, 2, 1, 3, 0, 8, 0, 2, 4, 7, 7, 0, 4, 4, 2, 7, 1,\n",
       "       2, 1, 0, 2, 4, 4, 3, 3, 7, 6, 0, 3, 7, 0, 3, 2, 7, 2, 2, 8, 2, 2,\n",
       "       2, 2, 2, 3, 3, 4, 2, 6, 3, 5, 0, 8, 3, 6, 2, 2, 4, 1, 3, 1, 3, 0,\n",
       "       3, 4, 2, 2, 2, 2, 7, 7, 1, 3, 4, 1, 2, 2, 2, 3, 2, 4, 0, 2, 2, 7,\n",
       "       7, 4, 0, 8, 8, 2, 4, 2, 4, 2, 3, 2, 0, 7, 6, 8, 5, 6, 8, 0, 2, 7,\n",
       "       3, 0])"
      ]
     },
     "execution_count": 11,
     "metadata": {},
     "output_type": "execute_result"
    }
   ],
   "source": [
    "#respective cluster for each observation\n",
    "kmeans_model.labels_"
   ]
  },
  {
   "cell_type": "code",
   "execution_count": 12,
   "metadata": {},
   "outputs": [
    {
     "data": {
      "text/plain": [
       "2546.5020667194985"
      ]
     },
     "execution_count": 12,
     "metadata": {},
     "output_type": "execute_result"
    }
   ],
   "source": [
    "#\"quality\" metric for clustering - score\n",
    "kmeans_model.inertia_"
   ]
  },
  {
   "cell_type": "markdown",
   "metadata": {},
   "source": [
    "### Finding Answer to Client's Question"
   ]
  },
  {
   "cell_type": "markdown",
   "metadata": {},
   "source": [
    "Now it is time to study the question in a more general manner. We have to advise the company, how many sizes should they produce. We use the `k` in the k-means algorithm as a parameter and study the clustering behaviour with respect to changes in `k`."
   ]
  },
  {
   "cell_type": "code",
   "execution_count": 13,
   "metadata": {},
   "outputs": [],
   "source": [
    "k_params = range(2,21)\n",
    "metrics = [0]  * len(k_params)\n",
    "i=0\n",
    "for k in k_params:\n",
    "    kmeans_model = KMeans(n_clusters = k, random_state=K_MEANS_RANDOM_STATE)\n",
    "    kmeans_model.fit(clean_data[[\"Width [cm]\",\"Length [cm]\"]])\n",
    "    metrics[i]=kmeans_model.inertia_\n",
    "    i=i+1"
   ]
  },
  {
   "cell_type": "code",
   "execution_count": 14,
   "metadata": {},
   "outputs": [
    {
     "data": {
      "image/png": "[encoded data removed]",
      "text/plain": [
       "<Figure size 432x288 with 1 Axes>"
      ]
     },
     "metadata": {
      "needs_background": "light"
     },
     "output_type": "display_data"
    }
   ],
   "source": [
    "visu.plot_metric(k_params, metrics)"
   ]
  },
  {
   "cell_type": "markdown",
   "metadata": {},
   "source": [
    "## Getting Results for Selected k"
   ]
  },
  {
   "cell_type": "code",
   "execution_count": 15,
   "metadata": {},
   "outputs": [],
   "source": [
    "#parameters\n",
    "number_of_sizes = 7"
   ]
  },
  {
   "cell_type": "code",
   "execution_count": 16,
   "metadata": {},
   "outputs": [
    {
     "data": {
      "text/plain": [
       "KMeans(n_clusters=7, random_state=87302)"
      ]
     },
     "execution_count": 16,
     "metadata": {},
     "output_type": "execute_result"
    }
   ],
   "source": [
    "#creating clustering object and fitting\n",
    "kmeans_model = KMeans(n_clusters = number_of_sizes, random_state=K_MEANS_RANDOM_STATE)\n",
    "kmeans_model.fit(clean_data[[\"Width [cm]\",\"Length [cm]\"]])"
   ]
  },
  {
   "cell_type": "code",
   "execution_count": 17,
   "metadata": {},
   "outputs": [
    {
     "name": "stdout",
     "output_type": "stream",
     "text": [
      "\n",
      "For 7 sizes, the sizes are defined as follows:\n"
     ]
    },
    {
     "data": {
      "text/plain": [
       "array([[68.39722222, 69.08833333],\n",
       "       [42.94775862, 65.1687931 ],\n",
       "       [49.77463415, 65.73390244],\n",
       "       [83.4825    , 71.0375    ],\n",
       "       [47.72333333, 72.31055556],\n",
       "       [34.63230769, 69.72153846],\n",
       "       [58.51604167, 71.29208333]])"
      ]
     },
     "execution_count": 17,
     "metadata": {},
     "output_type": "execute_result"
    }
   ],
   "source": [
    "#centers of the clusters - it is the desired size of the t-shirt.\n",
    "print()\n",
    "print(f\"For {number_of_sizes} sizes, the sizes are defined as follows:\")\n",
    "kmeans_model.cluster_centers_"
   ]
  },
  {
   "cell_type": "markdown",
   "metadata": {},
   "source": [
    "## Final Timestamp"
   ]
  },
  {
   "cell_type": "code",
   "execution_count": 18,
   "metadata": {},
   "outputs": [
    {
     "name": "stdout",
     "output_type": "stream",
     "text": [
      "Date and Time of Ending Execution: 01/01/2022 16:35:04\n",
      "Time duration of whole notebook is: 0.054 seconds\n"
     ]
    }
   ],
   "source": [
    "print(\"Date and Time of Ending Execution: \" + time.strftime(\"%d/%m/%Y\") + \" \" +time.strftime(\"%X\"))\n",
    "print(\"Time duration of whole notebook is: \" + str(round((time.time() - global_start_time)/60, 3)) + \" seconds\")"
   ]
  }
 ],
 "metadata": {
  "anaconda-cloud": {},
  "kernelspec": {
   "display_name": "Python 3",
   "language": "python",
   "name": "python3"
  },
  "language_info": {
   "codemirror_mode": {
    "name": "ipython",
    "version": 3
   },
   "file_extension": ".py",
   "mimetype": "text/x-python",
   "name": "python",
   "nbconvert_exporter": "python",
   "pygments_lexer": "ipython3",
   "version": "3.8.3"
  }
 },
 "nbformat": 4,
 "nbformat_minor": 2
}
