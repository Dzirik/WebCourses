{
 "cells": [
  {
   "cell_type": "markdown",
   "metadata": {},
   "source": [
    "# K Means Clustering\n",
    "\n",
    "This notebooks serves as a simulation notebook for k means clustering intuition."
   ]
  },
  {
   "cell_type": "markdown",
   "metadata": {},
   "source": [
    "# GENERAL SETTINGS --------------------------------------"
   ]
  },
  {
   "cell_type": "markdown",
   "metadata": {},
   "source": [
    "## Initial Timestamp"
   ]
  },
  {
   "cell_type": "code",
   "execution_count": null,
   "metadata": {},
   "outputs": [],
   "source": [
    "import time\n",
    "print(\"Date and Time of Starting Execution: \" + time.strftime(\"%d/%m/%Y\") + \" \" +time.strftime(\"%X\"))\n",
    "\n",
    "global_start_time = time.time()"
   ]
  },
  {
   "cell_type": "markdown",
   "metadata": {},
   "source": [
    "## Libraries"
   ]
  },
  {
   "cell_type": "code",
   "execution_count": null,
   "metadata": {},
   "outputs": [],
   "source": [
    "#general libraries\n",
    "from typing import Optional\n",
    "from numpy import array, random, concatenate, argmin\n",
    "from typing import List, Tuple, Optional, Any\n",
    "from scipy.spatial.distance import cdist"
   ]
  },
  {
   "cell_type": "code",
   "execution_count": null,
   "metadata": {},
   "outputs": [],
   "source": [
    "#personal libraries\n",
    "from Code.visualization import Visualizer"
   ]
  },
  {
   "cell_type": "markdown",
   "metadata": {},
   "source": [
    "## Notebook Settings"
   ]
  },
  {
   "cell_type": "code",
   "execution_count": null,
   "metadata": {},
   "outputs": [],
   "source": [
    "SEED_FOR_DATA = 9847\n",
    "N_FOR_SIMULATION = 10\n",
    "SEED_FOR_K_MEANS = 44"
   ]
  },
  {
   "cell_type": "markdown",
   "metadata": {},
   "source": [
    "# ANALYSIS ---------------------------------------------------------"
   ]
  },
  {
   "cell_type": "markdown",
   "metadata": {},
   "source": [
    "## Data\n",
    "\n",
    "In this part, the function for data generation is created."
   ]
  },
  {
   "cell_type": "markdown",
   "metadata": {},
   "source": [
    "> **HINT:** We are generating random data. For preserving the reproducibility principle, use predefined seeds."
   ]
  },
  {
   "cell_type": "markdown",
   "metadata": {},
   "source": [
    "### Function"
   ]
  },
  {
   "cell_type": "code",
   "execution_count": null,
   "metadata": {},
   "outputs": [],
   "source": [
    "def generate_data(n_of_obs_in_class: int, seed: Optional[int] = None) -> array:\n",
    "    \"\"\"\n",
    "    Generates data for simulation. Three clusters generated out of normal distribution with\n",
    "    n_of_obs_in_class observation in each.\n",
    "    :param n_of_obs_in_class: int. Number of observation in each class.\n",
    "    :param seed: Optional[int]. If int, then used as a seed in random generation.\n",
    "    :return: np.array. Data.\n",
    "    \"\"\"\n",
    "    if seed is not None:\n",
    "        random.seed(seed)\n",
    "    x = concatenate((\n",
    "        random.normal(0, 1, n_of_obs_in_class),\n",
    "        random.normal(5, 1, n_of_obs_in_class),\n",
    "        random.normal(-5, 1, n_of_obs_in_class)\n",
    "    ))\n",
    "    y = concatenate((\n",
    "        random.normal(0, 1, n_of_obs_in_class),\n",
    "        random.normal(5, 1, n_of_obs_in_class),\n",
    "        random.normal(-5, 1, n_of_obs_in_class)\n",
    "    ))\n",
    "    X = array([x, y]).transpose()\n",
    "\n",
    "    return X"
   ]
  },
  {
   "cell_type": "markdown",
   "metadata": {},
   "source": [
    "### Generating and Plotting Data Without Seed"
   ]
  },
  {
   "cell_type": "code",
   "execution_count": null,
   "metadata": {},
   "outputs": [],
   "source": [
    "#setting seed and number of observations.\n",
    "data_seed = None\n",
    "n = 10"
   ]
  },
  {
   "cell_type": "code",
   "execution_count": null,
   "metadata": {},
   "outputs": [],
   "source": [
    "X = generate_data(n_of_obs_in_class=n, seed=data_seed)\n",
    "print(X[0:5,:])\n",
    "visu = Visualizer()\n",
    "visu.plot_clusters(X[:,0], X[:,1], [1]*X.shape[0])"
   ]
  },
  {
   "cell_type": "markdown",
   "metadata": {},
   "source": [
    "### Generating and Plotting Data With Seed"
   ]
  },
  {
   "cell_type": "code",
   "execution_count": null,
   "metadata": {},
   "outputs": [],
   "source": [
    "#setting seed and number of observations.\n",
    "data_seed = SEED_FOR_DATA\n",
    "n = N_FOR_SIMULATION"
   ]
  },
  {
   "cell_type": "code",
   "execution_count": null,
   "metadata": {},
   "outputs": [],
   "source": [
    "X = generate_data(n_of_obs_in_class=n, seed=data_seed)\n",
    "print(X[0:5,:])\n",
    "visu = Visualizer()\n",
    "visu.plot_clusters(X[:,0], X[:,1], [1]*X.shape[0])"
   ]
  },
  {
   "cell_type": "markdown",
   "metadata": {},
   "source": [
    "## Clustering Simulation"
   ]
  },
  {
   "cell_type": "markdown",
   "metadata": {},
   "source": [
    "### Class"
   ]
  },
  {
   "cell_type": "code",
   "execution_count": null,
   "metadata": {},
   "outputs": [],
   "source": [
    "class KMeans:\n",
    "    \"\"\"\n",
    "    Class for naive k means implementation.\n",
    "    \"\"\"\n",
    "\n",
    "    def __init__(self, k: int) -> None:\n",
    "        self._k = k\n",
    "        self._X = array\n",
    "        self._seed: Optional[int] = None\n",
    "        self._centroids: array\n",
    "        self._labels: array\n",
    "        self._visu = Visualizer()\n",
    "\n",
    "    def initialize(self, X: array, seed: Optional[int] = None) -> None:\n",
    "        \"\"\"\n",
    "        Initialize the clustering. Randomly chooses the centroids.\n",
    "        :param X: array. 2D array.\n",
    "        :param seed: Optional[int]. If int, it is used as seed for centroids choice.\n",
    "        \"\"\"\n",
    "        self._seed = seed\n",
    "        self._X = X\n",
    "        self._labels = [0] * self._X.shape[0]\n",
    "        if self._seed is not None:\n",
    "            random.seed(self._seed)\n",
    "        centroids_idxs = random.choice(self._X.shape[0], self._k, replace=False)\n",
    "        self._centroids = self._X[centroids_idxs, :]\n",
    "\n",
    "    def perform_e_step(self) -> None:\n",
    "        \"\"\"\n",
    "        Performs E (Expectation) step in clustering.\n",
    "        \"\"\"\n",
    "        dists = cdist(self._X, self._centroids, \"euclidean\")\n",
    "        self._labels = array([argmin(i) for i in dists])\n",
    "\n",
    "    def perform_m_step(self) -> None:\n",
    "        \"\"\"\n",
    "        Performs M (Maximization) step in clustering.\n",
    "        \"\"\"\n",
    "        new_centroids = []\n",
    "        for i in range(self._k):\n",
    "            temp_cent = self._X[self._labels == i].mean(axis=0)\n",
    "            new_centroids.append(temp_cent)\n",
    "        self._centroids = array(new_centroids)\n",
    "\n",
    "    def plot(self, title: str = \"Title\") -> None:\n",
    "        \"\"\"\n",
    "        Plots the current situation in clustering.\n",
    "        :param title: str. Title of the plot.\n",
    "        \"\"\"\n",
    "        self._visu.plot_clusters_and_centroid(\n",
    "            self._X[:, 0], self._X[:, 1],\n",
    "            self._labels,\n",
    "            self._centroids[:, 0], self._centroids[:, 1],\n",
    "            title\n",
    "        )\n"
   ]
  },
  {
   "cell_type": "markdown",
   "metadata": {},
   "source": [
    "### Simulation Without Seed"
   ]
  },
  {
   "cell_type": "code",
   "execution_count": null,
   "metadata": {},
   "outputs": [],
   "source": [
    "# parameters setting\n",
    "n = N_FOR_SIMULATION\n",
    "data_seed = None # set to None to get random results\n",
    "\n",
    "k = 3\n",
    "k_means_seed = None # set to None to get random results\n",
    "\n",
    "# generating data\n",
    "X = generate_data(n_of_obs_in_class=n, seed=data_seed)\n",
    "\n",
    "# performing k means\n",
    "k_means = KMeans(k)\n",
    "k_means.initialize(X, k_means_seed)\n",
    "k_means.plot(\"After step 0: Initialization\")\n",
    "\n",
    "for i in range(1, 6, 1):\n",
    "    k_means.perform_e_step()\n",
    "    k_means.perform_m_step()\n",
    "    k_means.plot(f\"After step {i}: EM\")"
   ]
  },
  {
   "cell_type": "markdown",
   "metadata": {},
   "source": [
    "### Simulation With Seed"
   ]
  },
  {
   "cell_type": "code",
   "execution_count": null,
   "metadata": {},
   "outputs": [],
   "source": [
    "# parameters setting\n",
    "n = N_FOR_SIMULATION\n",
    "data_seed = SEED_FOR_DATA\n",
    "\n",
    "k = 3\n",
    "k_means_seed = SEED_FOR_K_MEANS\n",
    "\n",
    "# generating data\n",
    "X = generate_data(n_of_obs_in_class=n, seed=data_seed)\n",
    "\n",
    "# performing k means\n",
    "k_means = KMeans(k)\n",
    "k_means.initialize(X, k_means_seed)\n",
    "k_means.plot(\"After step 0: Initialization\")\n",
    "\n",
    "for i in range(1, 6, 1):\n",
    "    k_means.perform_e_step()\n",
    "    k_means.perform_m_step()\n",
    "    k_means.plot(f\"After step {i}: EM\")"
   ]
  },
  {
   "cell_type": "markdown",
   "metadata": {},
   "source": [
    "## Final Timestamp"
   ]
  },
  {
   "cell_type": "code",
   "execution_count": null,
   "metadata": {},
   "outputs": [],
   "source": [
    "print(\"Date and Time of Ending Execution: \" + time.strftime(\"%d/%m/%Y\") + \" \" +time.strftime(\"%X\"))\n",
    "print(\"Time duration of whole notebook is: \" + str(round((time.time() - global_start_time)/60, 3)) + \" seconds\")"
   ]
  }
 ],
 "metadata": {
  "anaconda-cloud": {},
  "kernelspec": {
   "display_name": "Python 3",
   "language": "python",
   "name": "python3"
  },
  "language_info": {
   "codemirror_mode": {
    "name": "ipython",
    "version": 3
   },
   "file_extension": ".py",
   "mimetype": "text/x-python",
   "name": "python",
   "nbconvert_exporter": "python",
   "pygments_lexer": "ipython3",
   "version": "3.8.3"
  }
 },
 "nbformat": 4,
 "nbformat_minor": 2
}
