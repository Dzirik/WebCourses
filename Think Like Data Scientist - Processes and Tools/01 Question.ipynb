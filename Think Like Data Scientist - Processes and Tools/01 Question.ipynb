{
 "cells": [
  {
   "cell_type": "markdown",
   "metadata": {},
   "source": [
    "# 01 Question\n",
    "\n",
    "First, general information about the tutorial and style of the notebooks can be found in this notebook. Next, important information about the problem defined in the video is discussed."
   ]
  },
  {
   "cell_type": "markdown",
   "metadata": {},
   "source": [
    "## Initial Notes"
   ]
  },
  {
   "cell_type": "markdown",
   "metadata": {},
   "source": [
    "### About This Tutorial"
   ]
  },
  {
   "cell_type": "markdown",
   "metadata": {},
   "source": [
    "> This tutorial serves as an example of analysis. It shows some standards for writing and solving data science tasks.  \n",
    "> These notebooks show examples of final notebooks. Of course, not so much care is usually appropriate for raw notebooks.  \n",
    "> There will be some hints on how to write notebooks effectively. These hints will have the following format.  \n",
    "\n",
    "> **HINT:** *Hint description.*  "
   ]
  },
  {
   "cell_type": "markdown",
   "metadata": {},
   "source": [
    "> **HINT:** \n",
    "> - Properly defined business **question** with **evaluation metric** should be at the beginning of any data science project. \n",
    "> - Another aspect is **applicability** of the answer, e.g. how the answer can be used during the decision process."
   ]
  },
  {
   "cell_type": "markdown",
   "metadata": {},
   "source": [
    "### Style of Work"
   ]
  },
  {
   "cell_type": "markdown",
   "metadata": {},
   "source": [
    "> **HINT:** Style is very important. Highly recommended are following standards\n",
    "> * **literate programming** and  \n",
    "> * **reproducibility**.  \n",
    "> Both standards are achievable by [markdown language](https://jupyter-notebook.readthedocs.io/en/latest/examples/Notebook/Working%20With%20Markdown%20Cells.html).  \n",
    "> Please find examples bellow: \n",
    "\n",
    "Highlighted paragraph. \n",
    "\n",
    "**bold text**\n",
    "\n",
    "*italic*\n",
    "\n",
    "`code`\n",
    "\n",
    "Bullets:\n",
    "* bullets  \n",
    "- another bullets     \n",
    "    - next level    \n",
    "\n",
    "Numbered list:\n",
    "1. Numbered list first level  \n",
    "2. Numbered list first level  \n",
    "    a. Numbered list second level   \n",
    "    \n",
    "Even with equation is no problem!\n",
    "$$e^x=\\sum_{i=0}^\\infty \\frac{1}{i!}x^i$$"
   ]
  },
  {
   "cell_type": "markdown",
   "metadata": {},
   "source": [
    "### Coding Standarts"
   ]
  },
  {
   "cell_type": "markdown",
   "metadata": {},
   "source": [
    "> **HINT:** Coding standards within the company/team should be stated by the team leader/project manager/CTO (e.g. PEP 8)."
   ]
  },
  {
   "cell_type": "markdown",
   "metadata": {},
   "source": [
    "### Files and Folders Organisation"
   ]
  },
  {
   "cell_type": "markdown",
   "metadata": {},
   "source": [
    "> **HINT:** It is also important to organise the project clearly. The project settings depend strongly on the project definition. A two weeks analysis covered by one person does not need any special care. A two years project made by ten specialists is another cup of tea. But there are some rules to consider. The team leader/project manager/CTO should make the final decision.\n",
    "> 1. Always use **version control system**, even if you work alone.\n",
    "> 2. Use meaningful repository **folder structure**. Helpful are the following folders:\n",
    "    * Raw Scripts/Notebooks. Folder for quick prototyping, playing with code, trying concepts. It could be a bit messy. **What should be here?** Easy answer - you can delete it after the end of the project, and it does not affect the reproducibility.\n",
    "    * Final Scripts/Notebooks. Well structured and documented code, clearly followed by any other person.\n",
    "    * Raw Data. Depending on the data source. If you have some **source files**, they would have been stored in a separate folder and **NOT CHANGED AT ANY CIRCUMSTANCES**.\n",
    "    * Processed Data/Final Data. Sometimes it is helpful to store processed data files somewhere. A separate folder is the right place for them.\n",
    "    * Code. It is a good practise to create some external code for notebooks - **classes**, **functions** or **libraries**. Depending on the project, it is a good practice to have it in separate folder/folders, or even in a separate repository. \n",
    "    * Text files. Folder for text files - data description, information sources, ...\n",
    "    * Literature. General information sources should be stored somewhere too. Please follow the company policy for using information sources (articles, books, guides, company polici, ...).  \n",
    "    \n",
    "> **NOTE:** Please use your common sense for managing a project.  \n",
    "> **NOTE:** This problem is very short, so the structure is straightforward. "
   ]
  },
  {
   "cell_type": "markdown",
   "metadata": {},
   "source": [
    "## Problem Definition"
   ]
  },
  {
   "cell_type": "markdown",
   "metadata": {},
   "source": [
    "This project aims to advise a t-shirt company on how many sizes of t-shirts and what sizes the company should produce based on the data *TShirtsData.csv*. The problem was defined during the call with the Boss; the data was also shared there.\n",
    "\n",
    "Questions to be solved:\n",
    "1. How many sizes of t-shirts between one and infinity should the company produce?\n",
    "2. How to define the sizes?\n",
    "\n",
    "Metrics:\n",
    "1. Business metric. T-shirt companys' staff defines it.\n",
    "2. Math-based metric. It will be defined later during the modelling stage. It will be based on clustering."
   ]
  }
 ],
 "metadata": {
  "anaconda-cloud": {},
  "kernelspec": {
   "display_name": "Python 3",
   "language": "python",
   "name": "python3"
  },
  "language_info": {
   "codemirror_mode": {
    "name": "ipython",
    "version": 3
   },
   "file_extension": ".py",
   "mimetype": "text/x-python",
   "name": "python",
   "nbconvert_exporter": "python",
   "pygments_lexer": "ipython3",
   "version": "3.8.3"
  }
 },
 "nbformat": 4,
 "nbformat_minor": 2
}
